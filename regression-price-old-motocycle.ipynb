{
 "cells": [
  {
   "cell_type": "code",
   "execution_count": 1,
   "id": "c388fc60",
   "metadata": {
    "_cell_guid": "b1076dfc-b9ad-4769-8c92-a6c4dae69d19",
    "_uuid": "8f2839f25d086af736a60e9eeb907d3b93b6e0e5",
    "execution": {
     "iopub.execute_input": "2021-11-25T09:45:22.464446Z",
     "iopub.status.busy": "2021-11-25T09:45:22.463521Z",
     "iopub.status.idle": "2021-11-25T09:45:23.558062Z",
     "shell.execute_reply": "2021-11-25T09:45:23.558642Z",
     "shell.execute_reply.started": "2021-11-25T09:32:00.300229Z"
    },
    "papermill": {
     "duration": 1.122347,
     "end_time": "2021-11-25T09:45:23.559024",
     "exception": false,
     "start_time": "2021-11-25T09:45:22.436677",
     "status": "completed"
    },
    "tags": []
   },
   "outputs": [],
   "source": [
    "import pandas as pd\n",
    "import matplotlib.pyplot as plt\n",
    "import numpy as np\n",
    "import seaborn as sns\n",
    "from sklearn import metrics"
   ]
  },
  {
   "cell_type": "code",
   "execution_count": 2,
   "id": "9369fea6",
   "metadata": {
    "execution": {
     "iopub.execute_input": "2021-11-25T09:45:23.599996Z",
     "iopub.status.busy": "2021-11-25T09:45:23.599264Z",
     "iopub.status.idle": "2021-11-25T09:45:23.617872Z",
     "shell.execute_reply": "2021-11-25T09:45:23.618393Z",
     "shell.execute_reply.started": "2021-11-25T09:32:00.30754Z"
    },
    "papermill": {
     "duration": 0.041012,
     "end_time": "2021-11-25T09:45:23.618651",
     "exception": false,
     "start_time": "2021-11-25T09:45:23.577639",
     "status": "completed"
    },
    "tags": []
   },
   "outputs": [],
   "source": [
    "Data=pd.read_csv('../input/motorcycle-dataset/BIKE DETAILS.csv')"
   ]
  },
  {
   "cell_type": "code",
   "execution_count": 3,
   "id": "5d8e3f86",
   "metadata": {
    "execution": {
     "iopub.execute_input": "2021-11-25T09:45:23.664605Z",
     "iopub.status.busy": "2021-11-25T09:45:23.663839Z",
     "iopub.status.idle": "2021-11-25T09:45:23.684320Z",
     "shell.execute_reply": "2021-11-25T09:45:23.684906Z",
     "shell.execute_reply.started": "2021-11-25T09:32:00.353408Z"
    },
    "papermill": {
     "duration": 0.047126,
     "end_time": "2021-11-25T09:45:23.685120",
     "exception": false,
     "start_time": "2021-11-25T09:45:23.637994",
     "status": "completed"
    },
    "tags": []
   },
   "outputs": [
    {
     "name": "stdout",
     "output_type": "stream",
     "text": [
      "1061\n"
     ]
    },
    {
     "data": {
      "text/html": [
       "<div>\n",
       "<style scoped>\n",
       "    .dataframe tbody tr th:only-of-type {\n",
       "        vertical-align: middle;\n",
       "    }\n",
       "\n",
       "    .dataframe tbody tr th {\n",
       "        vertical-align: top;\n",
       "    }\n",
       "\n",
       "    .dataframe thead th {\n",
       "        text-align: right;\n",
       "    }\n",
       "</style>\n",
       "<table border=\"1\" class=\"dataframe\">\n",
       "  <thead>\n",
       "    <tr style=\"text-align: right;\">\n",
       "      <th></th>\n",
       "      <th>name</th>\n",
       "      <th>selling_price</th>\n",
       "      <th>year</th>\n",
       "      <th>seller_type</th>\n",
       "      <th>owner</th>\n",
       "      <th>km_driven</th>\n",
       "      <th>ex_showroom_price</th>\n",
       "    </tr>\n",
       "  </thead>\n",
       "  <tbody>\n",
       "    <tr>\n",
       "      <th>0</th>\n",
       "      <td>Royal Enfield Classic 350</td>\n",
       "      <td>175000</td>\n",
       "      <td>2019</td>\n",
       "      <td>Individual</td>\n",
       "      <td>1st owner</td>\n",
       "      <td>350</td>\n",
       "      <td>NaN</td>\n",
       "    </tr>\n",
       "    <tr>\n",
       "      <th>1</th>\n",
       "      <td>Honda Dio</td>\n",
       "      <td>45000</td>\n",
       "      <td>2017</td>\n",
       "      <td>Individual</td>\n",
       "      <td>1st owner</td>\n",
       "      <td>5650</td>\n",
       "      <td>NaN</td>\n",
       "    </tr>\n",
       "    <tr>\n",
       "      <th>2</th>\n",
       "      <td>Royal Enfield Classic Gunmetal Grey</td>\n",
       "      <td>150000</td>\n",
       "      <td>2018</td>\n",
       "      <td>Individual</td>\n",
       "      <td>1st owner</td>\n",
       "      <td>12000</td>\n",
       "      <td>148114.0</td>\n",
       "    </tr>\n",
       "    <tr>\n",
       "      <th>3</th>\n",
       "      <td>Yamaha Fazer FI V 2.0 [2016-2018]</td>\n",
       "      <td>65000</td>\n",
       "      <td>2015</td>\n",
       "      <td>Individual</td>\n",
       "      <td>1st owner</td>\n",
       "      <td>23000</td>\n",
       "      <td>89643.0</td>\n",
       "    </tr>\n",
       "    <tr>\n",
       "      <th>4</th>\n",
       "      <td>Yamaha SZ [2013-2014]</td>\n",
       "      <td>20000</td>\n",
       "      <td>2011</td>\n",
       "      <td>Individual</td>\n",
       "      <td>2nd owner</td>\n",
       "      <td>21000</td>\n",
       "      <td>NaN</td>\n",
       "    </tr>\n",
       "    <tr>\n",
       "      <th>5</th>\n",
       "      <td>Honda CB Twister</td>\n",
       "      <td>18000</td>\n",
       "      <td>2010</td>\n",
       "      <td>Individual</td>\n",
       "      <td>1st owner</td>\n",
       "      <td>60000</td>\n",
       "      <td>53857.0</td>\n",
       "    </tr>\n",
       "    <tr>\n",
       "      <th>6</th>\n",
       "      <td>Honda CB Hornet 160R</td>\n",
       "      <td>78500</td>\n",
       "      <td>2018</td>\n",
       "      <td>Individual</td>\n",
       "      <td>1st owner</td>\n",
       "      <td>17000</td>\n",
       "      <td>87719.0</td>\n",
       "    </tr>\n",
       "    <tr>\n",
       "      <th>7</th>\n",
       "      <td>Royal Enfield Bullet 350 [2007-2011]</td>\n",
       "      <td>180000</td>\n",
       "      <td>2008</td>\n",
       "      <td>Individual</td>\n",
       "      <td>2nd owner</td>\n",
       "      <td>39000</td>\n",
       "      <td>NaN</td>\n",
       "    </tr>\n",
       "    <tr>\n",
       "      <th>8</th>\n",
       "      <td>Hero Honda CBZ extreme</td>\n",
       "      <td>30000</td>\n",
       "      <td>2010</td>\n",
       "      <td>Individual</td>\n",
       "      <td>1st owner</td>\n",
       "      <td>32000</td>\n",
       "      <td>NaN</td>\n",
       "    </tr>\n",
       "    <tr>\n",
       "      <th>9</th>\n",
       "      <td>Bajaj Discover 125</td>\n",
       "      <td>50000</td>\n",
       "      <td>2016</td>\n",
       "      <td>Individual</td>\n",
       "      <td>1st owner</td>\n",
       "      <td>42000</td>\n",
       "      <td>60122.0</td>\n",
       "    </tr>\n",
       "    <tr>\n",
       "      <th>10</th>\n",
       "      <td>Yamaha FZ16</td>\n",
       "      <td>35000</td>\n",
       "      <td>2015</td>\n",
       "      <td>Individual</td>\n",
       "      <td>1st owner</td>\n",
       "      <td>32000</td>\n",
       "      <td>78712.0</td>\n",
       "    </tr>\n",
       "    <tr>\n",
       "      <th>11</th>\n",
       "      <td>Honda Navi</td>\n",
       "      <td>28000</td>\n",
       "      <td>2016</td>\n",
       "      <td>Individual</td>\n",
       "      <td>2nd owner</td>\n",
       "      <td>10000</td>\n",
       "      <td>47255.0</td>\n",
       "    </tr>\n",
       "    <tr>\n",
       "      <th>12</th>\n",
       "      <td>Bajaj Avenger Street 220</td>\n",
       "      <td>80000</td>\n",
       "      <td>2018</td>\n",
       "      <td>Individual</td>\n",
       "      <td>1st owner</td>\n",
       "      <td>21178</td>\n",
       "      <td>95955.0</td>\n",
       "    </tr>\n",
       "    <tr>\n",
       "      <th>13</th>\n",
       "      <td>Yamaha YZF R3</td>\n",
       "      <td>365000</td>\n",
       "      <td>2019</td>\n",
       "      <td>Individual</td>\n",
       "      <td>1st owner</td>\n",
       "      <td>1127</td>\n",
       "      <td>351680.0</td>\n",
       "    </tr>\n",
       "    <tr>\n",
       "      <th>14</th>\n",
       "      <td>Jawa 42</td>\n",
       "      <td>185000</td>\n",
       "      <td>2020</td>\n",
       "      <td>Individual</td>\n",
       "      <td>1st owner</td>\n",
       "      <td>1700</td>\n",
       "      <td>NaN</td>\n",
       "    </tr>\n",
       "  </tbody>\n",
       "</table>\n",
       "</div>"
      ],
      "text/plain": [
       "                                    name  selling_price  year seller_type  \\\n",
       "0              Royal Enfield Classic 350         175000  2019  Individual   \n",
       "1                              Honda Dio          45000  2017  Individual   \n",
       "2    Royal Enfield Classic Gunmetal Grey         150000  2018  Individual   \n",
       "3      Yamaha Fazer FI V 2.0 [2016-2018]          65000  2015  Individual   \n",
       "4                  Yamaha SZ [2013-2014]          20000  2011  Individual   \n",
       "5                       Honda CB Twister          18000  2010  Individual   \n",
       "6                   Honda CB Hornet 160R          78500  2018  Individual   \n",
       "7   Royal Enfield Bullet 350 [2007-2011]         180000  2008  Individual   \n",
       "8                 Hero Honda CBZ extreme          30000  2010  Individual   \n",
       "9                     Bajaj Discover 125          50000  2016  Individual   \n",
       "10                           Yamaha FZ16          35000  2015  Individual   \n",
       "11                            Honda Navi          28000  2016  Individual   \n",
       "12              Bajaj Avenger Street 220          80000  2018  Individual   \n",
       "13                         Yamaha YZF R3         365000  2019  Individual   \n",
       "14                               Jawa 42         185000  2020  Individual   \n",
       "\n",
       "        owner  km_driven  ex_showroom_price  \n",
       "0   1st owner        350                NaN  \n",
       "1   1st owner       5650                NaN  \n",
       "2   1st owner      12000           148114.0  \n",
       "3   1st owner      23000            89643.0  \n",
       "4   2nd owner      21000                NaN  \n",
       "5   1st owner      60000            53857.0  \n",
       "6   1st owner      17000            87719.0  \n",
       "7   2nd owner      39000                NaN  \n",
       "8   1st owner      32000                NaN  \n",
       "9   1st owner      42000            60122.0  \n",
       "10  1st owner      32000            78712.0  \n",
       "11  2nd owner      10000            47255.0  \n",
       "12  1st owner      21178            95955.0  \n",
       "13  1st owner       1127           351680.0  \n",
       "14  1st owner       1700                NaN  "
      ]
     },
     "execution_count": 3,
     "metadata": {},
     "output_type": "execute_result"
    }
   ],
   "source": [
    "print(len(Data))\n",
    "Data.head(15)"
   ]
  },
  {
   "cell_type": "code",
   "execution_count": 4,
   "id": "b2967fed",
   "metadata": {
    "execution": {
     "iopub.execute_input": "2021-11-25T09:45:23.724051Z",
     "iopub.status.busy": "2021-11-25T09:45:23.723340Z",
     "iopub.status.idle": "2021-11-25T09:45:23.746736Z",
     "shell.execute_reply": "2021-11-25T09:45:23.747246Z",
     "shell.execute_reply.started": "2021-11-25T09:32:00.371003Z"
    },
    "papermill": {
     "duration": 0.04433,
     "end_time": "2021-11-25T09:45:23.747429",
     "exception": false,
     "start_time": "2021-11-25T09:45:23.703099",
     "status": "completed"
    },
    "tags": []
   },
   "outputs": [
    {
     "data": {
      "text/html": [
       "<div>\n",
       "<style scoped>\n",
       "    .dataframe tbody tr th:only-of-type {\n",
       "        vertical-align: middle;\n",
       "    }\n",
       "\n",
       "    .dataframe tbody tr th {\n",
       "        vertical-align: top;\n",
       "    }\n",
       "\n",
       "    .dataframe thead th {\n",
       "        text-align: right;\n",
       "    }\n",
       "</style>\n",
       "<table border=\"1\" class=\"dataframe\">\n",
       "  <thead>\n",
       "    <tr style=\"text-align: right;\">\n",
       "      <th></th>\n",
       "      <th>name</th>\n",
       "      <th>selling_price</th>\n",
       "      <th>year</th>\n",
       "      <th>seller_type</th>\n",
       "      <th>owner</th>\n",
       "      <th>km_driven</th>\n",
       "      <th>ex_showroom_price</th>\n",
       "    </tr>\n",
       "  </thead>\n",
       "  <tbody>\n",
       "    <tr>\n",
       "      <th>0</th>\n",
       "      <td>False</td>\n",
       "      <td>False</td>\n",
       "      <td>False</td>\n",
       "      <td>False</td>\n",
       "      <td>False</td>\n",
       "      <td>False</td>\n",
       "      <td>True</td>\n",
       "    </tr>\n",
       "    <tr>\n",
       "      <th>1</th>\n",
       "      <td>False</td>\n",
       "      <td>False</td>\n",
       "      <td>False</td>\n",
       "      <td>False</td>\n",
       "      <td>False</td>\n",
       "      <td>False</td>\n",
       "      <td>True</td>\n",
       "    </tr>\n",
       "    <tr>\n",
       "      <th>2</th>\n",
       "      <td>False</td>\n",
       "      <td>False</td>\n",
       "      <td>False</td>\n",
       "      <td>False</td>\n",
       "      <td>False</td>\n",
       "      <td>False</td>\n",
       "      <td>False</td>\n",
       "    </tr>\n",
       "    <tr>\n",
       "      <th>3</th>\n",
       "      <td>False</td>\n",
       "      <td>False</td>\n",
       "      <td>False</td>\n",
       "      <td>False</td>\n",
       "      <td>False</td>\n",
       "      <td>False</td>\n",
       "      <td>False</td>\n",
       "    </tr>\n",
       "    <tr>\n",
       "      <th>4</th>\n",
       "      <td>False</td>\n",
       "      <td>False</td>\n",
       "      <td>False</td>\n",
       "      <td>False</td>\n",
       "      <td>False</td>\n",
       "      <td>False</td>\n",
       "      <td>True</td>\n",
       "    </tr>\n",
       "    <tr>\n",
       "      <th>...</th>\n",
       "      <td>...</td>\n",
       "      <td>...</td>\n",
       "      <td>...</td>\n",
       "      <td>...</td>\n",
       "      <td>...</td>\n",
       "      <td>...</td>\n",
       "      <td>...</td>\n",
       "    </tr>\n",
       "    <tr>\n",
       "      <th>1056</th>\n",
       "      <td>False</td>\n",
       "      <td>False</td>\n",
       "      <td>False</td>\n",
       "      <td>False</td>\n",
       "      <td>False</td>\n",
       "      <td>False</td>\n",
       "      <td>False</td>\n",
       "    </tr>\n",
       "    <tr>\n",
       "      <th>1057</th>\n",
       "      <td>False</td>\n",
       "      <td>False</td>\n",
       "      <td>False</td>\n",
       "      <td>False</td>\n",
       "      <td>False</td>\n",
       "      <td>False</td>\n",
       "      <td>False</td>\n",
       "    </tr>\n",
       "    <tr>\n",
       "      <th>1058</th>\n",
       "      <td>False</td>\n",
       "      <td>False</td>\n",
       "      <td>False</td>\n",
       "      <td>False</td>\n",
       "      <td>False</td>\n",
       "      <td>False</td>\n",
       "      <td>False</td>\n",
       "    </tr>\n",
       "    <tr>\n",
       "      <th>1059</th>\n",
       "      <td>False</td>\n",
       "      <td>False</td>\n",
       "      <td>False</td>\n",
       "      <td>False</td>\n",
       "      <td>False</td>\n",
       "      <td>False</td>\n",
       "      <td>False</td>\n",
       "    </tr>\n",
       "    <tr>\n",
       "      <th>1060</th>\n",
       "      <td>False</td>\n",
       "      <td>False</td>\n",
       "      <td>False</td>\n",
       "      <td>False</td>\n",
       "      <td>False</td>\n",
       "      <td>False</td>\n",
       "      <td>False</td>\n",
       "    </tr>\n",
       "  </tbody>\n",
       "</table>\n",
       "<p>1061 rows × 7 columns</p>\n",
       "</div>"
      ],
      "text/plain": [
       "       name  selling_price   year  seller_type  owner  km_driven  \\\n",
       "0     False          False  False        False  False      False   \n",
       "1     False          False  False        False  False      False   \n",
       "2     False          False  False        False  False      False   \n",
       "3     False          False  False        False  False      False   \n",
       "4     False          False  False        False  False      False   \n",
       "...     ...            ...    ...          ...    ...        ...   \n",
       "1056  False          False  False        False  False      False   \n",
       "1057  False          False  False        False  False      False   \n",
       "1058  False          False  False        False  False      False   \n",
       "1059  False          False  False        False  False      False   \n",
       "1060  False          False  False        False  False      False   \n",
       "\n",
       "      ex_showroom_price  \n",
       "0                  True  \n",
       "1                  True  \n",
       "2                 False  \n",
       "3                 False  \n",
       "4                  True  \n",
       "...                 ...  \n",
       "1056              False  \n",
       "1057              False  \n",
       "1058              False  \n",
       "1059              False  \n",
       "1060              False  \n",
       "\n",
       "[1061 rows x 7 columns]"
      ]
     },
     "execution_count": 4,
     "metadata": {},
     "output_type": "execute_result"
    }
   ],
   "source": [
    "Data.isnull()"
   ]
  },
  {
   "cell_type": "code",
   "execution_count": 5,
   "id": "3f89f366",
   "metadata": {
    "execution": {
     "iopub.execute_input": "2021-11-25T09:45:23.786739Z",
     "iopub.status.busy": "2021-11-25T09:45:23.786060Z",
     "iopub.status.idle": "2021-11-25T09:45:23.793108Z",
     "shell.execute_reply": "2021-11-25T09:45:23.793722Z",
     "shell.execute_reply.started": "2021-11-25T09:32:00.393252Z"
    },
    "papermill": {
     "duration": 0.028542,
     "end_time": "2021-11-25T09:45:23.793903",
     "exception": false,
     "start_time": "2021-11-25T09:45:23.765361",
     "status": "completed"
    },
    "tags": []
   },
   "outputs": [
    {
     "data": {
      "text/plain": [
       "True"
      ]
     },
     "execution_count": 5,
     "metadata": {},
     "output_type": "execute_result"
    }
   ],
   "source": [
    "Data.isnull().any().any()"
   ]
  },
  {
   "cell_type": "code",
   "execution_count": 6,
   "id": "4232ef13",
   "metadata": {
    "execution": {
     "iopub.execute_input": "2021-11-25T09:45:23.833991Z",
     "iopub.status.busy": "2021-11-25T09:45:23.833343Z",
     "iopub.status.idle": "2021-11-25T09:45:23.843075Z",
     "shell.execute_reply": "2021-11-25T09:45:23.843660Z",
     "shell.execute_reply.started": "2021-11-25T09:32:00.403328Z"
    },
    "papermill": {
     "duration": 0.031432,
     "end_time": "2021-11-25T09:45:23.843835",
     "exception": false,
     "start_time": "2021-11-25T09:45:23.812403",
     "status": "completed"
    },
    "tags": []
   },
   "outputs": [
    {
     "data": {
      "text/plain": [
       "435"
      ]
     },
     "execution_count": 6,
     "metadata": {},
     "output_type": "execute_result"
    }
   ],
   "source": [
    "Data['ex_showroom_price'].isnull().sum().sum()"
   ]
  },
  {
   "cell_type": "code",
   "execution_count": 7,
   "id": "c01d0877",
   "metadata": {
    "execution": {
     "iopub.execute_input": "2021-11-25T09:45:23.884873Z",
     "iopub.status.busy": "2021-11-25T09:45:23.884228Z",
     "iopub.status.idle": "2021-11-25T09:45:23.895283Z",
     "shell.execute_reply": "2021-11-25T09:45:23.895836Z",
     "shell.execute_reply.started": "2021-11-25T09:32:00.423643Z"
    },
    "papermill": {
     "duration": 0.03362,
     "end_time": "2021-11-25T09:45:23.896013",
     "exception": false,
     "start_time": "2021-11-25T09:45:23.862393",
     "status": "completed"
    },
    "tags": []
   },
   "outputs": [],
   "source": [
    "Data.dropna(inplace=True)\n",
    "Data.reset_index(drop=True, inplace=True)"
   ]
  },
  {
   "cell_type": "code",
   "execution_count": 8,
   "id": "75ac4250",
   "metadata": {
    "execution": {
     "iopub.execute_input": "2021-11-25T09:45:23.937688Z",
     "iopub.status.busy": "2021-11-25T09:45:23.937019Z",
     "iopub.status.idle": "2021-11-25T09:45:23.958416Z",
     "shell.execute_reply": "2021-11-25T09:45:23.959072Z",
     "shell.execute_reply.started": "2021-11-25T09:32:00.43844Z"
    },
    "papermill": {
     "duration": 0.043953,
     "end_time": "2021-11-25T09:45:23.959247",
     "exception": false,
     "start_time": "2021-11-25T09:45:23.915294",
     "status": "completed"
    },
    "tags": []
   },
   "outputs": [
    {
     "data": {
      "text/html": [
       "<div>\n",
       "<style scoped>\n",
       "    .dataframe tbody tr th:only-of-type {\n",
       "        vertical-align: middle;\n",
       "    }\n",
       "\n",
       "    .dataframe tbody tr th {\n",
       "        vertical-align: top;\n",
       "    }\n",
       "\n",
       "    .dataframe thead th {\n",
       "        text-align: right;\n",
       "    }\n",
       "</style>\n",
       "<table border=\"1\" class=\"dataframe\">\n",
       "  <thead>\n",
       "    <tr style=\"text-align: right;\">\n",
       "      <th></th>\n",
       "      <th>name</th>\n",
       "      <th>selling_price</th>\n",
       "      <th>year</th>\n",
       "      <th>seller_type</th>\n",
       "      <th>owner</th>\n",
       "      <th>km_driven</th>\n",
       "      <th>ex_showroom_price</th>\n",
       "    </tr>\n",
       "  </thead>\n",
       "  <tbody>\n",
       "    <tr>\n",
       "      <th>0</th>\n",
       "      <td>Royal Enfield Classic Gunmetal Grey</td>\n",
       "      <td>150000</td>\n",
       "      <td>2018</td>\n",
       "      <td>Individual</td>\n",
       "      <td>1</td>\n",
       "      <td>12000</td>\n",
       "      <td>148114.0</td>\n",
       "    </tr>\n",
       "    <tr>\n",
       "      <th>1</th>\n",
       "      <td>Yamaha Fazer FI V 2.0 [2016-2018]</td>\n",
       "      <td>65000</td>\n",
       "      <td>2015</td>\n",
       "      <td>Individual</td>\n",
       "      <td>1</td>\n",
       "      <td>23000</td>\n",
       "      <td>89643.0</td>\n",
       "    </tr>\n",
       "    <tr>\n",
       "      <th>2</th>\n",
       "      <td>Honda CB Twister</td>\n",
       "      <td>18000</td>\n",
       "      <td>2010</td>\n",
       "      <td>Individual</td>\n",
       "      <td>1</td>\n",
       "      <td>60000</td>\n",
       "      <td>53857.0</td>\n",
       "    </tr>\n",
       "    <tr>\n",
       "      <th>3</th>\n",
       "      <td>Honda CB Hornet 160R</td>\n",
       "      <td>78500</td>\n",
       "      <td>2018</td>\n",
       "      <td>Individual</td>\n",
       "      <td>1</td>\n",
       "      <td>17000</td>\n",
       "      <td>87719.0</td>\n",
       "    </tr>\n",
       "    <tr>\n",
       "      <th>4</th>\n",
       "      <td>Bajaj Discover 125</td>\n",
       "      <td>50000</td>\n",
       "      <td>2016</td>\n",
       "      <td>Individual</td>\n",
       "      <td>1</td>\n",
       "      <td>42000</td>\n",
       "      <td>60122.0</td>\n",
       "    </tr>\n",
       "    <tr>\n",
       "      <th>...</th>\n",
       "      <td>...</td>\n",
       "      <td>...</td>\n",
       "      <td>...</td>\n",
       "      <td>...</td>\n",
       "      <td>...</td>\n",
       "      <td>...</td>\n",
       "      <td>...</td>\n",
       "    </tr>\n",
       "    <tr>\n",
       "      <th>95</th>\n",
       "      <td>Bajaj Discover 125</td>\n",
       "      <td>15000</td>\n",
       "      <td>2011</td>\n",
       "      <td>Individual</td>\n",
       "      <td>1</td>\n",
       "      <td>32000</td>\n",
       "      <td>57549.0</td>\n",
       "    </tr>\n",
       "    <tr>\n",
       "      <th>96</th>\n",
       "      <td>Yamaha SZ RR V 2.0</td>\n",
       "      <td>35000</td>\n",
       "      <td>2015</td>\n",
       "      <td>Individual</td>\n",
       "      <td>1</td>\n",
       "      <td>38000</td>\n",
       "      <td>69983.0</td>\n",
       "    </tr>\n",
       "    <tr>\n",
       "      <th>97</th>\n",
       "      <td>Bajaj Discover 150</td>\n",
       "      <td>25000</td>\n",
       "      <td>2014</td>\n",
       "      <td>Individual</td>\n",
       "      <td>2</td>\n",
       "      <td>71000</td>\n",
       "      <td>54299.0</td>\n",
       "    </tr>\n",
       "    <tr>\n",
       "      <th>98</th>\n",
       "      <td>Vespa VX 125</td>\n",
       "      <td>45000</td>\n",
       "      <td>2013</td>\n",
       "      <td>Individual</td>\n",
       "      <td>2</td>\n",
       "      <td>50000</td>\n",
       "      <td>72303.0</td>\n",
       "    </tr>\n",
       "    <tr>\n",
       "      <th>99</th>\n",
       "      <td>Yamaha SZ X</td>\n",
       "      <td>25000</td>\n",
       "      <td>2012</td>\n",
       "      <td>Individual</td>\n",
       "      <td>2</td>\n",
       "      <td>30000</td>\n",
       "      <td>65800.0</td>\n",
       "    </tr>\n",
       "  </tbody>\n",
       "</table>\n",
       "<p>100 rows × 7 columns</p>\n",
       "</div>"
      ],
      "text/plain": [
       "                                   name  selling_price  year seller_type  \\\n",
       "0   Royal Enfield Classic Gunmetal Grey         150000  2018  Individual   \n",
       "1     Yamaha Fazer FI V 2.0 [2016-2018]          65000  2015  Individual   \n",
       "2                      Honda CB Twister          18000  2010  Individual   \n",
       "3                  Honda CB Hornet 160R          78500  2018  Individual   \n",
       "4                    Bajaj Discover 125          50000  2016  Individual   \n",
       "..                                  ...            ...   ...         ...   \n",
       "95                   Bajaj Discover 125          15000  2011  Individual   \n",
       "96                   Yamaha SZ RR V 2.0          35000  2015  Individual   \n",
       "97                   Bajaj Discover 150          25000  2014  Individual   \n",
       "98                         Vespa VX 125          45000  2013  Individual   \n",
       "99                          Yamaha SZ X          25000  2012  Individual   \n",
       "\n",
       "    owner  km_driven  ex_showroom_price  \n",
       "0       1      12000           148114.0  \n",
       "1       1      23000            89643.0  \n",
       "2       1      60000            53857.0  \n",
       "3       1      17000            87719.0  \n",
       "4       1      42000            60122.0  \n",
       "..    ...        ...                ...  \n",
       "95      1      32000            57549.0  \n",
       "96      1      38000            69983.0  \n",
       "97      2      71000            54299.0  \n",
       "98      2      50000            72303.0  \n",
       "99      2      30000            65800.0  \n",
       "\n",
       "[100 rows x 7 columns]"
      ]
     },
     "execution_count": 8,
     "metadata": {},
     "output_type": "execute_result"
    }
   ],
   "source": [
    "Data['owner'] = Data['owner'].map({'1st owner':1, '2nd owner':2, '3rd owner':3, '4th owner':4})\n",
    "Data.head(100)"
   ]
  },
  {
   "cell_type": "code",
   "execution_count": 9,
   "id": "7b7efc5e",
   "metadata": {
    "execution": {
     "iopub.execute_input": "2021-11-25T09:45:24.002994Z",
     "iopub.status.busy": "2021-11-25T09:45:24.002303Z",
     "iopub.status.idle": "2021-11-25T09:45:24.497622Z",
     "shell.execute_reply": "2021-11-25T09:45:24.498112Z",
     "shell.execute_reply.started": "2021-11-25T09:32:00.46594Z"
    },
    "papermill": {
     "duration": 0.518578,
     "end_time": "2021-11-25T09:45:24.498278",
     "exception": false,
     "start_time": "2021-11-25T09:45:23.979700",
     "status": "completed"
    },
    "tags": []
   },
   "outputs": [
    {
     "name": "stderr",
     "output_type": "stream",
     "text": [
      "/opt/conda/lib/python3.7/site-packages/seaborn/distributions.py:2619: FutureWarning: `distplot` is a deprecated function and will be removed in a future version. Please adapt your code to use either `displot` (a figure-level function with similar flexibility) or `histplot` (an axes-level function for histograms).\n",
      "  warnings.warn(msg, FutureWarning)\n"
     ]
    },
    {
     "data": {
      "text/plain": [
       "<AxesSubplot:xlabel='selling_price', ylabel='Density'>"
      ]
     },
     "execution_count": 9,
     "metadata": {},
     "output_type": "execute_result"
    },
    {
     "data": {
      "image/png": "[encoded data removed]",
      "text/plain": [
       "<Figure size 432x288 with 1 Axes>"
      ]
     },
     "metadata": {
      "needs_background": "light"
     },
     "output_type": "display_data"
    }
   ],
   "source": [
    "sns.distplot(Data['selling_price'])"
   ]
  },
  {
   "cell_type": "code",
   "execution_count": 10,
   "id": "e4eea96a",
   "metadata": {
    "execution": {
     "iopub.execute_input": "2021-11-25T09:45:24.543244Z",
     "iopub.status.busy": "2021-11-25T09:45:24.542607Z",
     "iopub.status.idle": "2021-11-25T09:45:24.906564Z",
     "shell.execute_reply": "2021-11-25T09:45:24.907119Z",
     "shell.execute_reply.started": "2021-11-25T09:32:00.831764Z"
    },
    "papermill": {
     "duration": 0.388595,
     "end_time": "2021-11-25T09:45:24.907322",
     "exception": false,
     "start_time": "2021-11-25T09:45:24.518727",
     "status": "completed"
    },
    "tags": []
   },
   "outputs": [
    {
     "name": "stderr",
     "output_type": "stream",
     "text": [
      "/opt/conda/lib/python3.7/site-packages/seaborn/distributions.py:2619: FutureWarning: `distplot` is a deprecated function and will be removed in a future version. Please adapt your code to use either `displot` (a figure-level function with similar flexibility) or `histplot` (an axes-level function for histograms).\n",
      "  warnings.warn(msg, FutureWarning)\n"
     ]
    },
    {
     "data": {
      "text/plain": [
       "<AxesSubplot:xlabel='km_driven', ylabel='Density'>"
      ]
     },
     "execution_count": 10,
     "metadata": {},
     "output_type": "execute_result"
    },
    {
     "data": {
      "image/png": "[encoded data removed]",
      "text/plain": [
       "<Figure size 432x288 with 1 Axes>"
      ]
     },
     "metadata": {
      "needs_background": "light"
     },
     "output_type": "display_data"
    }
   ],
   "source": [
    "sns.distplot(Data['km_driven'])"
   ]
  },
  {
   "cell_type": "code",
   "execution_count": 11,
   "id": "c8a7801f",
   "metadata": {
    "execution": {
     "iopub.execute_input": "2021-11-25T09:45:24.960719Z",
     "iopub.status.busy": "2021-11-25T09:45:24.956831Z",
     "iopub.status.idle": "2021-11-25T09:45:25.335820Z",
     "shell.execute_reply": "2021-11-25T09:45:25.336374Z",
     "shell.execute_reply.started": "2021-11-25T09:32:01.210751Z"
    },
    "papermill": {
     "duration": 0.406318,
     "end_time": "2021-11-25T09:45:25.336594",
     "exception": false,
     "start_time": "2021-11-25T09:45:24.930276",
     "status": "completed"
    },
    "tags": []
   },
   "outputs": [
    {
     "data": {
      "text/plain": [
       "<seaborn.axisgrid.FacetGrid at 0x7f1e92d7b4d0>"
      ]
     },
     "execution_count": 11,
     "metadata": {},
     "output_type": "execute_result"
    },
    {
     "data": {
      "image/png": "[encoded data removed]",
      "text/plain": [
       "<Figure size 360x360 with 1 Axes>"
      ]
     },
     "metadata": {
      "needs_background": "light"
     },
     "output_type": "display_data"
    }
   ],
   "source": [
    "sns.displot(Data['year'])"
   ]
  },
  {
   "cell_type": "code",
   "execution_count": 12,
   "id": "4df0e203",
   "metadata": {
    "execution": {
     "iopub.execute_input": "2021-11-25T09:45:25.386864Z",
     "iopub.status.busy": "2021-11-25T09:45:25.386167Z",
     "iopub.status.idle": "2021-11-25T09:45:31.781152Z",
     "shell.execute_reply": "2021-11-25T09:45:31.781707Z",
     "shell.execute_reply.started": "2021-11-25T09:32:01.621786Z"
    },
    "papermill": {
     "duration": 6.421732,
     "end_time": "2021-11-25T09:45:31.781907",
     "exception": false,
     "start_time": "2021-11-25T09:45:25.360175",
     "status": "completed"
    },
    "tags": []
   },
   "outputs": [
    {
     "data": {
      "text/plain": [
       "<seaborn.axisgrid.PairGrid at 0x7f1e92d7b590>"
      ]
     },
     "execution_count": 12,
     "metadata": {},
     "output_type": "execute_result"
    },
    {
     "data": {
      "image/png": "[encoded data removed]",
      "text/plain": [
       "<Figure size 900x900 with 30 Axes>"
      ]
     },
     "metadata": {
      "needs_background": "light"
     },
     "output_type": "display_data"
    }
   ],
   "source": [
    "sns.pairplot(Data)"
   ]
  },
  {
   "cell_type": "code",
   "execution_count": 13,
   "id": "0a56ea21",
   "metadata": {
    "execution": {
     "iopub.execute_input": "2021-11-25T09:45:31.850107Z",
     "iopub.status.busy": "2021-11-25T09:45:31.849357Z",
     "iopub.status.idle": "2021-11-25T09:45:32.187257Z",
     "shell.execute_reply": "2021-11-25T09:45:32.186586Z",
     "shell.execute_reply.started": "2021-11-25T09:32:08.556728Z"
    },
    "papermill": {
     "duration": 0.378473,
     "end_time": "2021-11-25T09:45:32.187430",
     "exception": false,
     "start_time": "2021-11-25T09:45:31.808957",
     "status": "completed"
    },
    "tags": []
   },
   "outputs": [
    {
     "data": {
      "text/plain": [
       "<AxesSubplot:>"
      ]
     },
     "execution_count": 13,
     "metadata": {},
     "output_type": "execute_result"
    },
    {
     "data": {
      "image/png": "[encoded data removed]",
      "text/plain": [
       "<Figure size 720x720 with 2 Axes>"
      ]
     },
     "metadata": {
      "needs_background": "light"
     },
     "output_type": "display_data"
    }
   ],
   "source": [
    "import seaborn as sns\n",
    "plt.subplots(figsize=(10,10))\n",
    "sns.heatmap(Data.corr(), cmap = 'RdGy')"
   ]
  },
  {
   "cell_type": "code",
   "execution_count": 14,
   "id": "11c4ff17",
   "metadata": {
    "execution": {
     "iopub.execute_input": "2021-11-25T09:45:32.251897Z",
     "iopub.status.busy": "2021-11-25T09:45:32.251132Z",
     "iopub.status.idle": "2021-11-25T09:45:32.253027Z",
     "shell.execute_reply": "2021-11-25T09:45:32.253650Z",
     "shell.execute_reply.started": "2021-11-25T09:32:08.898578Z"
    },
    "papermill": {
     "duration": 0.037995,
     "end_time": "2021-11-25T09:45:32.253889",
     "exception": false,
     "start_time": "2021-11-25T09:45:32.215894",
     "status": "completed"
    },
    "tags": []
   },
   "outputs": [],
   "source": [
    "x=np.array(Data[['selling_price','year','owner','km_driven']]).reshape(-1,4)\n",
    "y=np.array(Data['ex_showroom_price']).reshape(-1,1)"
   ]
  },
  {
   "cell_type": "code",
   "execution_count": 15,
   "id": "bc56a433",
   "metadata": {
    "execution": {
     "iopub.execute_input": "2021-11-25T09:45:32.316022Z",
     "iopub.status.busy": "2021-11-25T09:45:32.312855Z",
     "iopub.status.idle": "2021-11-25T09:45:32.324639Z",
     "shell.execute_reply": "2021-11-25T09:45:32.323757Z",
     "shell.execute_reply.started": "2021-11-25T09:32:08.906256Z"
    },
    "papermill": {
     "duration": 0.043105,
     "end_time": "2021-11-25T09:45:32.324862",
     "exception": false,
     "start_time": "2021-11-25T09:45:32.281757",
     "status": "completed"
    },
    "tags": []
   },
   "outputs": [
    {
     "name": "stdout",
     "output_type": "stream",
     "text": [
      "[[ 1.51286591  1.06073591 -0.33938041 -0.45488702]\n",
      " [ 0.09280257  0.0661967  -0.33938041 -0.21282724]\n",
      " [-0.69240893 -1.59136865 -0.33938041  0.60137382]\n",
      " [ 0.31834204  1.06073591 -0.33938041 -0.34485985]\n",
      " [-0.15779685  0.39770977 -0.33938041  0.205276  ]]\n",
      "[[ 0.77685216]\n",
      " [ 0.02175106]\n",
      " [-0.44039339]\n",
      " [-0.00309569]\n",
      " [-0.35948647]]\n"
     ]
    }
   ],
   "source": [
    "from sklearn import preprocessing\n",
    "X = preprocessing.StandardScaler().fit(x).transform(x)\n",
    "y = preprocessing.StandardScaler().fit(y).transform(y)\n",
    "print(X[:5])\n",
    "print(y[:5])"
   ]
  },
  {
   "cell_type": "code",
   "execution_count": 16,
   "id": "b64d6bf5",
   "metadata": {
    "execution": {
     "iopub.execute_input": "2021-11-25T09:45:32.386791Z",
     "iopub.status.busy": "2021-11-25T09:45:32.386054Z",
     "iopub.status.idle": "2021-11-25T09:45:32.410675Z",
     "shell.execute_reply": "2021-11-25T09:45:32.411167Z",
     "shell.execute_reply.started": "2021-11-25T09:32:08.918305Z"
    },
    "papermill": {
     "duration": 0.057625,
     "end_time": "2021-11-25T09:45:32.411396",
     "exception": false,
     "start_time": "2021-11-25T09:45:32.353771",
     "status": "completed"
    },
    "tags": []
   },
   "outputs": [],
   "source": [
    "from sklearn.model_selection import train_test_split\n",
    "X_train, X_test, y_train, y_test =  train_test_split(X,y,test_size=0.2)"
   ]
  },
  {
   "cell_type": "code",
   "execution_count": 17,
   "id": "ca24419d",
   "metadata": {
    "execution": {
     "iopub.execute_input": "2021-11-25T09:45:32.473628Z",
     "iopub.status.busy": "2021-11-25T09:45:32.472870Z",
     "iopub.status.idle": "2021-11-25T09:45:32.576391Z",
     "shell.execute_reply": "2021-11-25T09:45:32.576950Z",
     "shell.execute_reply.started": "2021-11-25T09:32:08.930816Z"
    },
    "papermill": {
     "duration": 0.136358,
     "end_time": "2021-11-25T09:45:32.577168",
     "exception": false,
     "start_time": "2021-11-25T09:45:32.440810",
     "status": "completed"
    },
    "tags": []
   },
   "outputs": [
    {
     "name": "stdout",
     "output_type": "stream",
     "text": [
      "[[-0.31518287]\n",
      " [-0.10713855]\n",
      " [-0.35656317]\n",
      " [-0.44442884]\n",
      " [-0.19448633]]\n"
     ]
    }
   ],
   "source": [
    "from sklearn import linear_model\n",
    "model = linear_model.LinearRegression()\n",
    "model.fit (X_train,y_train)\n",
    "y_pred = model.predict(X_test)\n",
    "print(y_pred[0:5])"
   ]
  },
  {
   "cell_type": "code",
   "execution_count": 18,
   "id": "827925f0",
   "metadata": {
    "execution": {
     "iopub.execute_input": "2021-11-25T09:45:32.643297Z",
     "iopub.status.busy": "2021-11-25T09:45:32.642587Z",
     "iopub.status.idle": "2021-11-25T09:45:32.648826Z",
     "shell.execute_reply": "2021-11-25T09:45:32.649371Z",
     "shell.execute_reply.started": "2021-11-25T09:32:08.947526Z"
    },
    "papermill": {
     "duration": 0.041258,
     "end_time": "2021-11-25T09:45:32.649610",
     "exception": false,
     "start_time": "2021-11-25T09:45:32.608352",
     "status": "completed"
    },
    "tags": []
   },
   "outputs": [
    {
     "name": "stdout",
     "output_type": "stream",
     "text": [
      "Độ dốc: [[ 0.86809149 -0.17503471  0.0302272  -0.00392244]]\n",
      "Hệ Số Chặn: [-0.0073154]\n"
     ]
    }
   ],
   "source": [
    "print('Độ dốc:',model.coef_)\n",
    "print('Hệ Số Chặn:',model.intercept_)"
   ]
  },
  {
   "cell_type": "code",
   "execution_count": 19,
   "id": "fda2a89e",
   "metadata": {
    "execution": {
     "iopub.execute_input": "2021-11-25T09:45:32.714993Z",
     "iopub.status.busy": "2021-11-25T09:45:32.713988Z",
     "iopub.status.idle": "2021-11-25T09:45:32.724659Z",
     "shell.execute_reply": "2021-11-25T09:45:32.723638Z",
     "shell.execute_reply.started": "2021-11-25T09:32:08.962029Z"
    },
    "papermill": {
     "duration": 0.04396,
     "end_time": "2021-11-25T09:45:32.724878",
     "exception": false,
     "start_time": "2021-11-25T09:45:32.680918",
     "status": "completed"
    },
    "tags": []
   },
   "outputs": [
    {
     "name": "stdout",
     "output_type": "stream",
     "text": [
      "R2: 0.8638893124587306\n",
      "MAE: 0.203016885442804\n",
      "MSE: 0.27115724019629267\n",
      "RMSE: 0.5207276065240758\n"
     ]
    }
   ],
   "source": [
    "print('R2:',model.score(X_train, y_train))\n",
    "print('MAE:', metrics.mean_absolute_error(y_test, y_pred))\n",
    "print('MSE:', metrics.mean_squared_error(y_test, y_pred))\n",
    "print('RMSE:', np.sqrt(metrics.mean_squared_error(y_test, y_pred)))"
   ]
  }
 ],
 "metadata": {
  "kernelspec": {
   "display_name": "Python 3",
   "language": "python",
   "name": "python3"
  },
  "language_info": {
   "codemirror_mode": {
    "name": "ipython",
    "version": 3
   },
   "file_extension": ".py",
   "mimetype": "text/x-python",
   "name": "python",
   "nbconvert_exporter": "python",
   "pygments_lexer": "ipython3",
   "version": "3.7.10"
  },
  "papermill": {
   "default_parameters": {},
   "duration": 20.938018,
   "end_time": "2021-11-25T09:45:33.871264",
   "environment_variables": {},
   "exception": null,
   "input_path": "__notebook__.ipynb",
   "output_path": "__notebook__.ipynb",
   "parameters": {},
   "start_time": "2021-11-25T09:45:12.933246",
   "version": "2.3.3"
  }
 },
 "nbformat": 4,
 "nbformat_minor": 5
}
